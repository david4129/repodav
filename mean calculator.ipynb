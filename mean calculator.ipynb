{
 "cells": [
  {
   "cell_type": "code",
   "execution_count": 11,
   "metadata": {},
   "outputs": [],
   "source": [
    "''' Create a function named `calculate()` in `mean_var_std.py` that uses Numpy to output the mean,\n",
    "variance, standard deviation, max, min, and sum of the rows, columns, and elements in a 3 x 3 matrix.''' \n",
    "import numpy as np\n",
    "\n",
    "def calculate(list):\n",
    "    if len(list) == 9:\n",
    "        list = np.array(list)\n",
    "        modified_list = list.reshape(3,3)\n",
    "        modified_list_mean_row = []\n",
    "        modified_list_mean_column = []\n",
    "        modified_list_median_row = []\n",
    "        modified_list_median_column = []\n",
    "        modified_list_max_row = []\n",
    "        modified_list_max_column = []\n",
    "        modified_list_min_row = []\n",
    "        modified_list_min_column = []\n",
    "        modified_list_std_row = []\n",
    "        modified_list_std_column = []\n",
    "        modified_list_variance_row = []\n",
    "        modified_list_variance_column = []\n",
    "        modified_list_sum_column = []\n",
    "        modified_list_sum_row = []\n",
    "        for i in range(3):\n",
    "            mean = np.mean(modified_list[i,:])\n",
    "            modified_list_mean_row.append(mean)\n",
    "            mean_col = np.mean(modified_list[:,i])\n",
    "            modified_list_mean_column.append(mean_col)\n",
    "            median = np.median(modified_list[i,:])\n",
    "            modified_list_median_row.append(median)\n",
    "            median_col = np.median(modified_list[:,i])\n",
    "            modified_list_median_column.append(median_col)\n",
    "            maxi = np.max(modified_list[i,:])\n",
    "            modified_list_max_row.append(maxi)\n",
    "            max_col = np.max(modified_list[:,i])\n",
    "            modified_list_max_column.append(max_col)\n",
    "            mini = np.min(modified_list[i,:])\n",
    "            modified_list_min_row.append(mini)\n",
    "            min_col = np.min(modified_list[:,i])\n",
    "            modified_list_min_column.append(min_col)\n",
    "            std = np.std(modified_list[i,:])\n",
    "            modified_list_std_row.append(std)\n",
    "            std_col = np.std(modified_list[:,i])\n",
    "            modified_list_std_column.append(std_col)\n",
    "            variance = np.var(modified_list[i,:])\n",
    "            modified_list_variance_row.append(variance)\n",
    "            variance_col = np.var(modified_list[:,i])\n",
    "            modified_list_variance_column.append(variance_col)\n",
    "            suma = np.sum(modified_list[i,:])\n",
    "            modified_list_sum_row.append(suma)\n",
    "            sum_col = np.sum(modified_list[:,i])\n",
    "            modified_list_sum_column.append(sum_col)\n",
    "        dic = {'mean':[modified_list_mean_row,modified_list_mean_column],'median':[modified_list_median_row,modified_list_median_column],'max':[modified_list_max_row,modified_list_max_column],'min':[modified_list_min_row,modified_list_min_column],'std':[modified_list_std_row,modified_list_std_column],'variance':[modified_list_variance_row,modified_list_variance_column],'sum':[modified_list_sum_row,modified_list_sum_column]}\n",
    "            \n",
    "    print(dic)"
   ]
  },
  {
   "cell_type": "code",
   "execution_count": 12,
   "metadata": {},
   "outputs": [
    {
     "name": "stdout",
     "output_type": "stream",
     "text": [
      "{'mean': [[2.0, 5.0, 8.0], [4.0, 5.0, 6.0]], 'median': [[2.0, 5.0, 8.0], [4.0, 5.0, 6.0]], 'max': [[3, 6, 9], [7, 8, 9]], 'min': [[1, 4, 7], [1, 2, 3]], 'std': [[0.816496580927726, 0.816496580927726, 0.816496580927726], [2.449489742783178, 2.449489742783178, 2.449489742783178]], 'variance': [[0.6666666666666666, 0.6666666666666666, 0.6666666666666666], [6.0, 6.0, 6.0]], 'sum': [[6, 15, 24], [12, 15, 18]]}\n"
     ]
    }
   ],
   "source": [
    "calculate([1,2,3,4,5,6,7,8,9])"
   ]
  },
  {
   "cell_type": "code",
   "execution_count": null,
   "metadata": {},
   "outputs": [],
   "source": []
  },
  {
   "cell_type": "code",
   "execution_count": null,
   "metadata": {},
   "outputs": [],
   "source": []
  }
 ],
 "metadata": {
  "kernelspec": {
   "display_name": "Python 3",
   "language": "python",
   "name": "python3"
  },
  "language_info": {
   "codemirror_mode": {
    "name": "ipython",
    "version": 3
   },
   "file_extension": ".py",
   "mimetype": "text/x-python",
   "name": "python",
   "nbconvert_exporter": "python",
   "pygments_lexer": "ipython3",
   "version": "3.7.4"
  }
 },
 "nbformat": 4,
 "nbformat_minor": 2
}
